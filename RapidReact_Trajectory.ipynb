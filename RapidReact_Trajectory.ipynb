{
  "nbformat": 4,
  "nbformat_minor": 0,
  "metadata": {
    "colab": {
      "name": "RapidReact-Trajectory.ipynb",
      "provenance": [],
      "authorship_tag": "ABX9TyOs1NXlzT38FhmYPOTKMr9j",
      "include_colab_link": true
    },
    "kernelspec": {
      "name": "python3",
      "display_name": "Python 3"
    },
    "language_info": {
      "name": "python"
    }
  },
  "cells": [
    {
      "cell_type": "markdown",
      "metadata": {
        "id": "view-in-github",
        "colab_type": "text"
      },
      "source": [
        "<a href=\"https://colab.research.google.com/github/dave20874/RapidReact-Trajectory/blob/main/RapidReact_Trajectory.ipynb\" target=\"_parent\"><img src=\"https://colab.research.google.com/assets/colab-badge.svg\" alt=\"Open In Colab\"/></a>"
      ]
    },
    {
      "cell_type": "code",
      "source": [
        "import math"
      ],
      "metadata": {
        "id": "WtmqYi-OT8cN"
      },
      "execution_count": null,
      "outputs": []
    },
    {
      "cell_type": "code",
      "source": [
        "in_to_m = 25.4/1000\n",
        "flywheel_r = 2.0 * in_to_m\n",
        "high_goal_h = (8*12+8) * in_to_m  # 8' 8\" Goal\n",
        "low_goal_h = (3*12+5) * in_to_m   # 3' 5\" Goal\n",
        "shooter_h = 16.0 * in_to_m        # 16\" height of shooter\n",
        "gravity = 9.8                     # m/s^2\n",
        "m_to_ft = 1000.0/25.4/12.0\n",
        "shooter_loss = 0.575\n",
        "CRITICAL_ANGLE = math.radians(-30.0)\n",
        "\n",
        "def launch_v(rpm):\n",
        "  v_mps = rpm/60.0*flywheel_r*2.0*math.pi  # rev/min / sec/min * m -> m/sec\n",
        "  return v_mps*shooter_loss\n",
        "\n",
        "# Returns None if shot is invalid\n",
        "# Returns (dist, arr_angle, max_height, rpm, trajectory) if shot is valid\n",
        "def shoot(rpm, angle_rad, goal_h=high_goal_h):\n",
        "  v0 = launch_v(rpm)\n",
        "  # print(f\"v0 = {v0}\")\n",
        "  vx = v0 * math.cos(angle_rad)\n",
        "  vy = v0 * math.sin(angle_rad)\n",
        "\n",
        "  x = 0.0\n",
        "  y = shooter_h\n",
        "\n",
        "  h = 0.001     # 1 ms steps\n",
        "\n",
        "  # Advance trajectory 1ms at a time until it is descending below goal height\n",
        "  trajectory = []\n",
        "  trajectory.append((x, y))\n",
        "  h_max = y\n",
        "  while (vy > 0.0) | (y > goal_h):\n",
        "    v_new = vy - h*gravity\n",
        "    x += vx*h\n",
        "    y += (v_new+vy)/2.0 * h\n",
        "    vy = v_new\n",
        "\n",
        "    if y > h_max:\n",
        "      h_max = y\n",
        "\n",
        "    trajectory.append((x, y))\n",
        "\n",
        "  arr_angle = math.atan2(vy, vx)\n",
        "\n",
        "  retval = (x, arr_angle, h_max, rpm, trajectory)\n",
        "\n",
        "  if h_max < goal_h:\n",
        "    return None\n",
        "\n",
        "  if arr_angle > CRITICAL_ANGLE:\n",
        "    return None\n",
        "\n",
        "  return retval\n",
        "\n",
        "result = shoot(3000.0, math.radians(67.0))\n",
        "\n",
        "print(f\"dist:{result[0]*m_to_ft} ft, arr_ang:{math.degrees(result[1])} deg, max_h:{result[2]*m_to_ft} ft\")"
      ],
      "metadata": {
        "colab": {
          "base_uri": "https://localhost:8080/"
        },
        "id": "wEpgPvHROLIx",
        "outputId": "566bff58-a9b4-49a7-8d58-2727d9065bd9"
      },
      "execution_count": null,
      "outputs": [
        {
          "output_type": "stream",
          "name": "stdout",
          "text": [
            "dist:16.445672978288634 ft, arr_ang:-55.684965573850796 deg, max_h:13.277173670299966 ft\n"
          ]
        }
      ]
    },
    {
      "cell_type": "code",
      "source": [
        "for angle_deg in range(65, 90):\n",
        "  angle = math.radians(angle_deg)\n",
        "\n",
        "  min_range = None\n",
        "  max_range = None\n",
        "  for rpm in range(2000, 4500, 10):\n",
        "    soln = shoot(rpm, angle)\n",
        "    if soln is not None:\n",
        "      if (min_range is None):\n",
        "        min_range = soln\n",
        "      elif (soln[0] < min_range[0]):\n",
        "        # replace min_range solution with this solution\n",
        "        min_range = soln\n",
        "\n",
        "      if (max_range is None):\n",
        "        max_range = soln\n",
        "      elif (soln[0] > max_range[0]):\n",
        "        # replace max_range solution with this solution\n",
        "        max_range = soln\n",
        "\n",
        "  # report min, max range solutions\n",
        "  print(f\"Angle: {angle_deg} deg:\")\n",
        "  print(f\"  min: {min_range[0]*m_to_ft}, arr: {math.degrees(min_range[1])} deg, max_h: {min_range[2]*m_to_ft} ft\")\n",
        "  print(f\"  max: {max_range[0]*m_to_ft}, arr: {math.degrees(max_range[1])} deg, max_h: {max_range[2]*m_to_ft} ft\")"
      ],
      "metadata": {
        "colab": {
          "base_uri": "https://localhost:8080/"
        },
        "id": "eTg_3zcUa13w",
        "outputId": "290630dc-133a-4bab-af60-bafee94961c5"
      },
      "execution_count": null,
      "outputs": [
        {
          "output_type": "stream",
          "name": "stdout",
          "text": [
            "Angle: 65 deg:\n",
            "  min: 9.38231493761819, arr: -30.205910089231004 deg, max_h: 9.245654831614438 ft\n",
            "  max: 44.67533527773636, arr: -61.16604605421512 deg, max_h: 27.268761045427745 ft\n",
            "Angle: 66 deg:\n",
            "  min: 8.946874045337486, arr: -31.254402815507365 deg, max_h: 9.243391425500576 ft\n",
            "  max: 43.399682392908716, arr: -62.34264215480058 deg, max_h: 27.684648765155682 ft\n",
            "Angle: 67 deg:\n",
            "  min: 8.347061315075079, arr: -30.964611811351162 deg, max_h: 9.169686494056787 ft\n",
            "  max: 42.07919916483592, arr: -63.5342679685516 deg, max_h: 28.08766845202054 ft\n",
            "Angle: 68 deg:\n",
            "  min: 7.7323711717389525, arr: -30.06440765661218 deg, max_h: 9.088718073170167 ft\n",
            "  max: 40.68028744275826, arr: -64.6990519776377 deg, max_h: 28.47732263872665 ft\n",
            "Angle: 69 deg:\n",
            "  min: 7.292743282990435, arr: -30.76427811515102 deg, max_h: 9.065594288505958 ft\n",
            "  max: 39.22367031620267, arr: -65.85919149142246 deg, max_h: 28.853143742678984 ft\n",
            "Angle: 70 deg:\n",
            "  min: 6.836775930809902, arr: -31.069864938532405 deg, max_h: 9.03606764743699 ft\n",
            "  max: 37.727206692814136, arr: -67.0334403130931 deg, max_h: 29.214672525179726 ft\n",
            "Angle: 71 deg:\n",
            "  min: 6.383949793159405, arr: -31.270507180230798 deg, max_h: 9.000254682349825 ft\n",
            "  max: 36.17649964317016, arr: -68.20236899606381 deg, max_h: 29.561464441820036 ft\n",
            "Angle: 72 deg:\n",
            "  min: 5.928471998732236, arr: -31.15912770182457 deg, max_h: 8.95829830418982 ft\n",
            "  max: 34.56015602968837, arr: -69.35004047908211 deg, max_h: 29.893099322812585 ft\n",
            "Angle: 73 deg:\n",
            "  min: 5.466299299062639, arr: -30.466706655811333 deg, max_h: 8.91033554316554 ft\n",
            "  max: 32.90935172532297, arr: -70.51071617469225 deg, max_h: 30.20917270249441 ft\n",
            "Angle: 74 deg:\n",
            "  min: 5.156359333342788, arr: -32.788463746603675 deg, max_h: 8.922665264188922 ft\n",
            "  max: 31.212037279411692, arr: -71.66754495073145 deg, max_h: 30.509300736556007 ft\n",
            "Angle: 75 deg:\n",
            "  min: 4.68742604403576, arr: -31.09700172714697 deg, max_h: 8.863220099165721 ft\n",
            "  max: 29.470874686848106, arr: -72.82099061613235 deg, max_h: 30.793115656620724 ft\n",
            "Angle: 76 deg:\n",
            "  min: 4.367590331761728, arr: -33.16920898366724 deg, max_h: 8.864707718123187 ft\n",
            "  max: 27.699465901519975, arr: -73.98437838489966 deg, max_h: 31.06027480712569 ft\n",
            "Angle: 77 deg:\n",
            "  min: 4.038154137693253, arr: -35.021897338690145 deg, max_h: 8.861030499871754 ft\n",
            "  max: 25.877981683161323, arr: -75.13150230836611 deg, max_h: 31.310446968047902 ft\n",
            "Angle: 78 deg:\n",
            "  min: 3.568817579853025, arr: -30.769132186742453 deg, max_h: 8.785246835071868 ft\n",
            "  max: 24.02085625879077, arr: -76.27655971107575 deg, max_h: 31.543337105242397 ft\n",
            "Angle: 79 deg:\n",
            "  min: 3.235055147733458, arr: -31.431345809254754 deg, max_h: 8.771199881648302 ft\n",
            "  max: 22.139490981701407, arr: -77.43012443381714 deg, max_h: 31.75865171691833 ft\n",
            "Angle: 80 deg:\n",
            "  min: 2.900031346201721, arr: -31.594239324262823 deg, max_h: 8.752184892709183 ft\n",
            "  max: 20.218749546998453, arr: -78.57138734334166 deg, max_h: 31.956134140159932 ft\n",
            "Angle: 81 deg:\n",
            "  min: 2.559284358614098, arr: -30.299476118681202 deg, max_h: 8.72827039212144 ft\n",
            "  max: 18.27790902654246, arr: -79.72013499204705 deg, max_h: 32.13554085630848 ft\n",
            "Angle: 82 deg:\n",
            "  min: 2.332195607178774, arr: -39.578047317922916 deg, max_h: 8.766951138602805 ft\n",
            "  max: 16.31124869833595, arr: -80.86659646201244 deg, max_h: 32.296654780017505 ft\n",
            "Angle: 83 deg:\n",
            "  min: 1.990089517699722, arr: -37.76325538806843 deg, max_h: 8.733453280465591 ft\n",
            "  max: 14.32166832297867, arr: -82.01114903044608 deg, max_h: 32.43927960373613 ft\n",
            "Angle: 84 deg:\n",
            "  min: 1.6442398208075073, arr: -30.73282203855319 deg, max_h: 8.695250443308396 ft\n",
            "  max: 12.307377694841566, arr: -83.14860133734172 deg, max_h: 32.56323992042946 ft\n",
            "Angle: 85 deg:\n",
            "  min: 1.403380793567937, arr: -44.43597084708662 deg, max_h: 8.72003798074814 ft\n",
            "  max: 10.285444380491429, arr: -84.29600219035275 deg, max_h: 32.668387254439324 ft\n",
            "Angle: 86 deg:\n",
            "  min: 1.140005183876875, arr: -55.169660864241685 deg, max_h: 8.740358814322098 ft\n",
            "  max: 8.244690598428965, arr: -85.43702556575533 deg, max_h: 32.754591941764815 ft\n",
            "Angle: 87 deg:\n",
            "  min: 0.813773084673312, arr: -46.69364953163844 deg, max_h: 8.68824482008901 ft\n",
            "  max: 6.1927912199597825, arr: -86.57758738777375 deg, max_h: 32.8217456279547 ft\n",
            "Angle: 88 deg:\n",
            "  min: 0.5494933074684113, arr: -62.849494621833976 deg, max_h: 8.69946526861017 ft\n",
            "  max: 4.132720914521182, arr: -87.71803849789808 deg, max_h: 32.869774418762155 ft\n",
            "Angle: 89 deg:\n",
            "  min: 0.27630877371057855, arr: -76.64268262777543 deg, max_h: 8.706200995745323 ft\n",
            "  max: 2.067461628003691, arr: -88.85872716264804 deg, max_h: 32.89861609911287 ft\n"
          ]
        }
      ]
    }
  ]
}