{
  "nbformat": 4,
  "nbformat_minor": 0,
  "metadata": {
    "colab": {
      "name": "RapidReact-Trajectory.ipynb",
      "provenance": [],
      "authorship_tag": "ABX9TyOt838VLSX4sK+2SUnhrSla",
      "include_colab_link": true
    },
    "kernelspec": {
      "name": "python3",
      "display_name": "Python 3"
    },
    "language_info": {
      "name": "python"
    }
  },
  "cells": [
    {
      "cell_type": "markdown",
      "metadata": {
        "id": "view-in-github",
        "colab_type": "text"
      },
      "source": [
        "<a href=\"https://colab.research.google.com/github/dave20874/RapidReact-Trajectory/blob/main/RapidReact_Trajectory.ipynb\" target=\"_parent\"><img src=\"https://colab.research.google.com/assets/colab-badge.svg\" alt=\"Open In Colab\"/></a>"
      ]
    },
    {
      "cell_type": "code",
      "source": [
        "import math\n",
        "import numpy as np"
      ],
      "metadata": {
        "id": "WtmqYi-OT8cN"
      },
      "execution_count": 5,
      "outputs": []
    },
    {
      "cell_type": "code",
      "source": [
        "x = np.divide([2.4, 2.5], 2.0)\n",
        "print(x)"
      ],
      "metadata": {
        "colab": {
          "base_uri": "https://localhost:8080/"
        },
        "id": "2VPqpLSC9PIF",
        "outputId": "877e493c-67c3-4c37-e59a-ef3731e5dce0"
      },
      "execution_count": 6,
      "outputs": [
        {
          "output_type": "stream",
          "name": "stdout",
          "text": [
            "[1.2  1.25]\n"
          ]
        }
      ]
    },
    {
      "cell_type": "code",
      "source": [
        "in_to_m = 25.4/1000\n",
        "flywheel_r = 2.0 * in_to_m\n",
        "high_goal_h = (8*12+8) * in_to_m  # 8' 8\" Goal\n",
        "low_goal_h = (3*12+5) * in_to_m   # 3' 5\" Goal\n",
        "shooter_h = 16.0 * in_to_m        # 16\" height of shooter\n",
        "gravity = 9.8                     # m/s^2\n",
        "m_to_ft = 1000.0/25.4/12.0\n",
        "shooter_loss = 0.575\n",
        "CRITICAL_ANGLE = math.radians(-30.0)\n",
        "m_ball_kg = 1.0  # TODO\n",
        "spin_hz = -589.0/60.0   # Shooter constant\n",
        "ball_r = 9.5/2.0*in_to_m\n",
        "ball_a = math.pi*ball_r*ball_r\n",
        "rho = 1.225    # kg / m^3\n",
        "\n",
        "# Extra height so ball clears the target by 6 inches.\n",
        "clearance = (ball_r + 6.0) * in_to_m\n",
        "\n",
        "\n",
        "def launch_v(rpm):\n",
        "  v_mps = rpm/60.0*flywheel_r*2.0*math.pi  # rev/min / sec/min * m -> m/sec\n",
        "  return v_mps*shooter_loss\n",
        "\n",
        "def normalize(vector):\n",
        "  mag = math.sqrt(vector[0]*vector[0] + vector[1]*vector[1])\n",
        "  return np.divide(vector, mag)\n",
        "\n",
        "# Based on https://www1.grc.nasa.gov/beginners-guide-to-aeronautics/ideal-lift-of-a-spinning-ball/\n",
        "def lift(v, spin=-spin_hz):\n",
        "  pi_2 = math.pi * math.pi\n",
        "  b_3 = ball_r * ball_r * ball_r\n",
        "\n",
        "  L = 4.0 / 3.0 * (4.0 * pi_2 * b_3 * spin * rho * v)\n",
        "  return L\n",
        "\n",
        "\n",
        "# Returns None if shot is invalid\n",
        "# Returns (dist, arr_angle, max_height, rpm, trajectory) if shot is valid\n",
        "def shoot(rpm, angle_rad, goal_h=high_goal_h):\n",
        "  v0 = launch_v(rpm)\n",
        "  # print(f\"v0 = {v0}\")\n",
        "  vx = v0 * math.cos(angle_rad)\n",
        "  vy = v0 * math.sin(angle_rad)\n",
        "\n",
        "  x = 0.0\n",
        "  y = shooter_h\n",
        "\n",
        "  state = [x, y, vx, vy]\n",
        "\n",
        "  h = 0.001     # 1 ms steps\n",
        "\n",
        "  # Advance trajectory 1ms at a time until it is descending below goal height\n",
        "  trajectory = []\n",
        "  trajectory.append((x, y))\n",
        "  report_interval = 10\n",
        "  h_max = y\n",
        "  cd = 0.4  # coefficient of drag\n",
        "\n",
        "  # While traveling up or above goal height\n",
        "  while (state[3] > 0.0) | (state[1] > goal_h):\n",
        "\n",
        "    # velocity\n",
        "    v = [state[2], state[3]]\n",
        "    unit_v = normalize(v)\n",
        "    q = 0.5 * rho * (v[0]*v[0] + v[1]*v[1])\n",
        "\n",
        "    perp_v = [-v[1], v[0]]\n",
        "    unit_perp_v = [-unit_v[1], unit_v[0]]\n",
        "\n",
        "    f_gravity = np.multiply([0.0, -gravity], m_ball_kg)\n",
        "    f_drag = np.multiply(unit_v, -cd*ball_a*q)  # TODO\n",
        "\n",
        "    L = lift(-math.sqrt(v[0]*v[0]+v[1]*v[1]))\n",
        "    f_magnus = np.multiply(unit_perp_v, L) # TODO\n",
        "    f_total = np.add.reduce([f_gravity, f_drag, f_magnus])\n",
        "    # print(f\"f_total: {f_total}, f_magnus: {f_magnus}\")\n",
        "    accel = np.divide(f_total, m_ball_kg)\n",
        "\n",
        "    # Derivative of pos is vel\n",
        "    # Derivative of vel is accel\n",
        "    state_dot = [state[2], state[3], accel[0], accel[1]]\n",
        "\n",
        "    state += np.multiply(state_dot, h)\n",
        "\n",
        "    # v_new = vy - h*gravity\n",
        "    # x += vx*h\n",
        "    # y += (v_new+vy)/2.0 * h\n",
        "    # vy = v_new\n",
        "\n",
        "    if state[1] > h_max:\n",
        "      h_max = state[1]\n",
        "\n",
        "    report_interval -= 1\n",
        "    if report_interval == 0:\n",
        "      trajectory.append((x, y))\n",
        "      report_interval = 10\n",
        "\n",
        "  arr_angle = math.atan2(state[3], state[2])\n",
        "\n",
        "  retval = (state[0], arr_angle, h_max, rpm, trajectory)\n",
        "\n",
        "  if h_max < goal_h + clearance:\n",
        "    return None\n",
        "\n",
        "  if arr_angle > CRITICAL_ANGLE:\n",
        "    return None\n",
        "\n",
        "  return retval\n",
        "\n",
        "result = shoot(4000.0, math.radians(67.0))\n",
        "\n",
        "print(f\"dist:{result[0]*m_to_ft} ft, arr_ang:{math.degrees(result[1])} deg, max_h:{result[2]*m_to_ft} ft\")"
      ],
      "metadata": {
        "colab": {
          "base_uri": "https://localhost:8080/"
        },
        "id": "wEpgPvHROLIx",
        "outputId": "2527ff72-bb22-40fa-8b01-fbb012720f3e"
      },
      "execution_count": 32,
      "outputs": [
        {
          "output_type": "stream",
          "name": "stdout",
          "text": [
            "dist:23.713619054771364 ft, arr_ang:-45.901200505756265 deg, max_h:12.88846218236373 ft\n"
          ]
        }
      ]
    },
    {
      "cell_type": "code",
      "source": [
        "for angle_deg in range(65, 90):\n",
        "  angle = math.radians(angle_deg)\n",
        "\n",
        "  min_range = None\n",
        "  max_range = None\n",
        "  for rpm in range(2000, 4500, 10):\n",
        "    soln = shoot(rpm, angle)\n",
        "    if soln is not None:\n",
        "      if (min_range is None):\n",
        "        min_range = soln\n",
        "      elif (soln[0] < min_range[0]):\n",
        "        # replace min_range solution with this solution\n",
        "        min_range = soln\n",
        "\n",
        "      if (max_range is None):\n",
        "        max_range = soln\n",
        "      elif (soln[0] > max_range[0]):\n",
        "        # replace max_range solution with this solution\n",
        "        max_range = soln\n",
        "\n",
        "  # report min, max range solutions\n",
        "  print(f\"Angle: {angle_deg} deg:\")\n",
        "  print(f\"  min: {min_range[3]} rpm, {min_range[0]*m_to_ft} ft, arr: {math.degrees(min_range[1])} deg, max_h: {min_range[2]*m_to_ft} ft\")\n",
        "  print(f\"  max: {max_range[3]} rpm, {max_range[0]*m_to_ft} ft, arr: {math.degrees(max_range[1])} deg, max_h: {max_range[2]*m_to_ft} ft\")"
      ],
      "metadata": {
        "colab": {
          "base_uri": "https://localhost:8080/"
        },
        "id": "eTg_3zcUa13w",
        "outputId": "54e7dfcc-9d1f-4111-c462-9d75eecbfc4b"
      },
      "execution_count": 33,
      "outputs": [
        {
          "output_type": "stream",
          "name": "stdout",
          "text": [
            "Angle: 65 deg:\n",
            "  min: 3400 rpm, 15.995506237075032 ft, arr: -30.034161706728884 deg, max_h: 9.99653426968785 ft\n",
            "  max: 4490 rpm, 29.18131473418192 ft, arr: -47.84256060510328 deg, max_h: 14.313626877196224 ft\n",
            "Angle: 66 deg:\n",
            "  min: 3330 rpm, 15.35557554853446 ft, arr: -30.223434161886786 deg, max_h: 9.934195631195426 ft\n",
            "  max: 4490 rpm, 29.33248278338817 ft, arr: -49.319412112818426 deg, max_h: 14.638346671849325 ft\n",
            "Angle: 67 deg:\n",
            "  min: 3260 rpm, 14.66154819170739 ft, arr: -30.083526406976613 deg, max_h: 9.859568083658715 ft\n",
            "  max: 4490 rpm, 29.457490203591554 ft, arr: -50.78834292573542 deg, max_h: 14.963700159905683 ft\n",
            "Angle: 68 deg:\n",
            "  min: 3200 rpm, 14.103215501339331 ft, arr: -30.370702404155942 deg, max_h: 9.813201773487332 ft\n",
            "  max: 4490 rpm, 29.55615101911026 ft, arr: -52.249002103106655 deg, max_h: 15.289521522328862 ft\n",
            "Angle: 69 deg:\n",
            "  min: 3140 rpm, 13.511171528253213 ft, arr: -30.4508202021019 deg, max_h: 9.756036539684425 ft\n",
            "  max: 4490 rpm, 29.628290072151348 ft, arr: -53.70105972382567 deg, max_h: 15.615644056875588 ft\n",
            "Angle: 70 deg:\n",
            "  min: 3080 rpm, 12.889755457407611 ft, arr: -30.31494613719018 deg, max_h: 9.688083403444564 ft\n",
            "  max: 4490 rpm, 29.67374304122278 ft, arr: -55.144207169981186 deg, max_h: 15.94190022211598 ft\n",
            "Angle: 71 deg:\n",
            "  min: 3020 rpm, 12.260340816975459 ft, arr: -30.095799564911175 deg, max_h: 9.60935089238362 ft\n",
            "  max: 4490 rpm, 29.672875838403517 ft, arr: -56.48569226062764 deg, max_h: 16.268121681340894 ft\n",
            "Angle: 72 deg:\n",
            "  min: 2970 rpm, 11.737101645303143 ft, arr: -30.156271428437606 deg, max_h: 9.563343685186029 ft\n",
            "  max: 4490 rpm, 29.665240861149552 ft, arr: -57.9112778293609 deg, max_h: 16.594139346341656 ft\n",
            "Angle: 73 deg:\n",
            "  min: 2920 rpm, 11.20335050652533 ft, arr: -30.1284868490177 deg, max_h: 9.508052024149041 ft\n",
            "  max: 4490 rpm, 29.612452089380184 ft, arr: -59.23682431239611 deg, max_h: 16.919783421046983 ft\n",
            "Angle: 74 deg:\n",
            "  min: 2880 rpm, 10.782148531444644 ft, arr: -30.527279727618257 deg, max_h: 9.488387618732883 ft\n",
            "  max: 4490 rpm, 29.55121916289469 ft, arr: -60.64391719179724 deg, max_h: 17.24488344500278 ft\n",
            "Angle: 75 deg:\n",
            "  min: 2830 rpm, 10.214716559178587 ft, arr: -30.160332565801102 deg, max_h: 9.415240516449444 ft\n",
            "  max: 4490 rpm, 29.446055789731204 ft, arr: -61.95271617964744 deg, max_h: 17.569268336680405 ft\n",
            "Angle: 76 deg:\n",
            "  min: 2790 rpm, 9.757331965930751 ft, arr: -30.212314900749664 deg, max_h: 9.379157290431676 ft\n",
            "  max: 4490 rpm, 29.31491598335979 ft, arr: -63.2534060695353 deg, max_h: 17.89276643659988 ft\n",
            "Angle: 77 deg:\n",
            "  min: 2750 rpm, 9.290842895227462 ft, arr: -30.16022191912861 deg, max_h: 9.335238667749186 ft\n",
            "  max: 4490 rpm, 29.157718759576667 ft, arr: -64.54584186691498 deg, max_h: 18.215205550254506 ft\n",
            "Angle: 78 deg:\n",
            "  min: 2720 rpm, 8.950173816823135 ft, arr: -30.864203619662206 deg, max_h: 9.331173896774256 ft\n",
            "  max: 4490 rpm, 28.974392563714037 ft, arr: -65.82989283617844 deg, max_h: 18.536412990823816 ft\n",
            "Angle: 79 deg:\n",
            "  min: 2680 rpm, 8.466121957094861 ft, arr: -30.601804907104952 deg, max_h: 9.272273843665054 ft\n",
            "  max: 4490 rpm, 28.76487526554963 ft, arr: -67.10544224105074 deg, max_h: 18.856215621663768 ft\n",
            "Angle: 80 deg:\n",
            "  min: 2650 rpm, 8.090137502237056 ft, arr: -30.93161291047972 deg, max_h: 9.254605620315047 ft\n",
            "  max: 4490 rpm, 28.52911415255063 ft, arr: -68.3723870449884 deg, max_h: 19.174439898560962 ft\n",
            "Angle: 81 deg:\n",
            "  min: 2610 rpm, 7.584124321069979 ft, arr: -30.249966448998173 deg, max_h: 9.180802059658625 ft\n",
            "  max: 4490 rpm, 28.26706592152178 ft, arr: -69.63063757588961 deg, max_h: 19.49091191174151 ft\n",
            "Angle: 82 deg:\n",
            "  min: 2590 rpm, 7.32071344961605 ft, arr: -31.436519094286272 deg, max_h: 9.199877315625558 ft\n",
            "  max: 4490 rpm, 27.97869666873208 ft, arr: -70.8801171593937 deg, max_h: 19.80546729024306 ft\n",
            "Angle: 83 deg:\n",
            "  min: 2570 rpm, 7.052428159307419 ft, arr: -32.70205661946393 deg, max_h: 9.213857459364192 ft\n",
            "  max: 4490 rpm, 27.663981878602232 ft, arr: -72.12076172495907 deg, max_h: 20.117927180028367 ft\n",
            "Angle: 84 deg:\n",
            "  min: 2550 rpm, 6.768896602557961 ft, arr: -33.866963908466474 deg, max_h: 9.222699821650469 ft\n",
            "  max: 4490 rpm, 27.322906411038325 ft, arr: -73.35251938879676 deg, max_h: 20.42811295334932 ft\n",
            "Angle: 85 deg:\n",
            "  min: 2530 rpm, 6.471573578351243 ft, arr: -34.93143396815366 deg, max_h: 9.226364440913688 ft\n",
            "  max: 4490 rpm, 26.95546448750861 ft, arr: -74.57535001757516 deg, max_h: 20.735851800480194 ft\n",
            "Angle: 86 deg:\n",
            "  min: 2510 rpm, 6.161897349141638 ft, arr: -35.8953688660475 deg, max_h: 9.224820037237633 ft\n",
            "  max: 4490 rpm, 26.552931610653644 ft, arr: -75.71273397994938 deg, max_h: 21.04098519074817 ft\n",
            "Angle: 87 deg:\n",
            "  min: 2490 rpm, 5.850487404852118 ft, arr: -36.95019518571237 deg, max_h: 9.218046593630532 ft\n",
            "  max: 4490 rpm, 26.133496051819932 ft, arr: -76.91870549186744 deg, max_h: 21.34332090101574 ft\n",
            "Angle: 88 deg:\n",
            "  min: 2470 rpm, 5.519936858503836 ft, arr: -37.71436850026301 deg, max_h: 9.206020067808087 ft\n",
            "  max: 4490 rpm, 25.687731445128076 ft, arr: -78.11569178197776 deg, max_h: 21.64269586948338 ft\n",
            "Angle: 89 deg:\n",
            "  min: 2450 rpm, 5.181256275218817 ft, arr: -38.37523880459512 deg, max_h: 9.188725011647259 ft\n",
            "  max: 4490 rpm, 25.215668975249997 ft, arr: -79.30369443106504 deg, max_h: 21.938936746884426 ft\n"
          ]
        }
      ]
    }
  ]
}